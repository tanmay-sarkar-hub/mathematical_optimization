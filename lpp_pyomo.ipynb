{
 "cells": [
  {
   "cell_type": "markdown",
   "metadata": {},
   "source": [
    "### Simple LPP using Pyomo"
   ]
  },
  {
   "cell_type": "code",
   "execution_count": 2,
   "metadata": {},
   "outputs": [],
   "source": [
    "# packages\n",
    "from pyomo.environ import *"
   ]
  },
  {
   "cell_type": "code",
   "execution_count": 39,
   "metadata": {},
   "outputs": [],
   "source": [
    "# creating the model\n",
    "model = ConcreteModel()\n",
    "\n",
    "# decision variables\n",
    "model.x = Var(domain=NonNegativeReals, bounds=(10,30))\n",
    "model.y = Var(domain=NonNegativeReals)\n",
    "\n",
    "# objective function\n",
    "model.obj = Objective(expr=10*model.x+12*model.y, sense=maximize)\n",
    "\n",
    "# constraints\n",
    "model.max_hours = Constraint(expr=2*model.x+model.y<=100)"
   ]
  },
  {
   "cell_type": "code",
   "execution_count": 40,
   "metadata": {},
   "outputs": [],
   "source": [
    "# solve\n",
    "solver = SolverFactory('cbc')\n",
    "solution = solver.solve(model)"
   ]
  },
  {
   "cell_type": "code",
   "execution_count": 42,
   "metadata": {},
   "outputs": [
    {
     "name": "stdout",
     "output_type": "stream",
     "text": [
      "Optimal value of x =  0.0\n",
      "Optimal value of y =  100.0\n",
      "Optimal value of obj =  1200.0\n"
     ]
    }
   ],
   "source": [
    "# report\n",
    "print(\"Optimal value of x = \", model.x())\n",
    "print(\"Optimal value of y = \", model.y())\n",
    "print(\"Hours committed = \", model.max_hours())\n",
    "print(\"Optimal value of obj = \", model.obj())"
   ]
  }
 ],
 "metadata": {
  "kernelspec": {
   "display_name": "Python 3",
   "language": "python",
   "name": "python3"
  },
  "language_info": {
   "codemirror_mode": {
    "name": "ipython",
    "version": 3
   },
   "file_extension": ".py",
   "mimetype": "text/x-python",
   "name": "python",
   "nbconvert_exporter": "python",
   "pygments_lexer": "ipython3",
   "version": "3.8.5"
  }
 },
 "nbformat": 4,
 "nbformat_minor": 4
}

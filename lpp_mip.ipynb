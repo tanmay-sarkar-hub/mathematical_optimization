{
 "cells": [
  {
   "cell_type": "markdown",
   "metadata": {},
   "source": [
    "### Simple LPP using MIP"
   ]
  },
  {
   "cell_type": "code",
   "execution_count": 1,
   "metadata": {},
   "outputs": [],
   "source": [
    "import mip"
   ]
  },
  {
   "cell_type": "code",
   "execution_count": 2,
   "metadata": {},
   "outputs": [
    {
     "data": {
      "text/plain": [
       "<OptimizationStatus.OPTIMAL: 0>"
      ]
     },
     "execution_count": 2,
     "metadata": {},
     "output_type": "execute_result"
    }
   ],
   "source": [
    "# build\n",
    "m = mip.Model(\"my_model\")\n",
    "x = m.add_var(var_type=mip.CONTINUOUS, lb=10, ub=30)\n",
    "y = m.add_var(var_type=mip.CONTINUOUS)\n",
    "m.objective = mip.maximize(10*x+12*y)\n",
    "m += 2*x+y<=100\n",
    "m.optimize()"
   ]
  },
  {
   "cell_type": "code",
   "execution_count": 3,
   "metadata": {},
   "outputs": [
    {
     "name": "stdout",
     "output_type": "stream",
     "text": [
      "Optimal value of x =  10.0\n",
      "Optimal value of y =  80.0\n",
      "Optimal value of obj =  1060.0\n"
     ]
    }
   ],
   "source": [
    "# report\n",
    "print(\"Optimal value of x = \", x.x)\n",
    "print(\"Optimal value of y = \", y.x)\n",
    "print(\"Optimal value of obj = \", m.objective_value)"
   ]
  }
 ],
 "metadata": {
  "kernelspec": {
   "display_name": "Python 3",
   "language": "python",
   "name": "python3"
  },
  "language_info": {
   "codemirror_mode": {
    "name": "ipython",
    "version": 3
   },
   "file_extension": ".py",
   "mimetype": "text/x-python",
   "name": "python",
   "nbconvert_exporter": "python",
   "pygments_lexer": "ipython3",
   "version": "3.8.5"
  }
 },
 "nbformat": 4,
 "nbformat_minor": 4
}

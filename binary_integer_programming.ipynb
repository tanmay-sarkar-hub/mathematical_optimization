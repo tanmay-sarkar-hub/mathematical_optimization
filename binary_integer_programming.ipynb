{
 "cells": [
  {
   "cell_type": "markdown",
   "metadata": {},
   "source": [
    "### This is a simple binary integer programming example"
   ]
  },
  {
   "cell_type": "code",
   "execution_count": 1,
   "metadata": {},
   "outputs": [],
   "source": [
    "from pyomo.environ import *"
   ]
  },
  {
   "cell_type": "code",
   "execution_count": 2,
   "metadata": {},
   "outputs": [],
   "source": [
    "# define the model\n",
    "model = ConcreteModel()\n",
    "model.idx = range(4)\n",
    "model.x = Var(model.idx, domain=Binary)\n",
    "model.obj_par = [8, 11, 6, 4]\n",
    "model.obj = Objective(expr=sum(model.obj_par[i]*model.x[i] for i in model.idx), sense=maximize)\n",
    "model.constraint_par = [5, 7, 4, 3]\n",
    "model.constraint_b = 14\n",
    "model.constraint = Constraint(expr=sum(model.constraint_par[i]*model.x[i] for i in model.idx)<=model.constraint_b)"
   ]
  },
  {
   "cell_type": "code",
   "execution_count": 3,
   "metadata": {},
   "outputs": [],
   "source": [
    "# solve\n",
    "solver = SolverFactory('cbc')\n",
    "solution = solver.solve(model)"
   ]
  },
  {
   "cell_type": "code",
   "execution_count": 4,
   "metadata": {},
   "outputs": [
    {
     "name": "stdout",
     "output_type": "stream",
     "text": [
      "optimal decision variables: \n",
      "x0 :  0.0\n",
      "x1 :  1.0\n",
      "x2 :  1.0\n",
      "x3 :  1.0\n",
      "optimal value:  21.0\n"
     ]
    }
   ],
   "source": [
    "# report\n",
    "print(\"optimal decision variables: \") \n",
    "for i in model.idx:\n",
    "    print(\"x%d\" %i, \": \", model.x[i]())\n",
    "\n",
    "print(\"optimal value: \", model.obj())"
   ]
  }
 ],
 "metadata": {
  "kernelspec": {
   "display_name": "Python 3",
   "language": "python",
   "name": "python3"
  },
  "language_info": {
   "codemirror_mode": {
    "name": "ipython",
    "version": 3
   },
   "file_extension": ".py",
   "mimetype": "text/x-python",
   "name": "python",
   "nbconvert_exporter": "python",
   "pygments_lexer": "ipython3",
   "version": "3.8.5"
  }
 },
 "nbformat": 4,
 "nbformat_minor": 4
}

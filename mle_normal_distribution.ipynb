{
 "cells": [
  {
   "cell_type": "markdown",
   "metadata": {},
   "source": [
    "# Normal distribution fitting using MLE"
   ]
  },
  {
   "cell_type": "code",
   "execution_count": 1,
   "metadata": {},
   "outputs": [],
   "source": [
    "from scipy import stats as st\n",
    "import numpy as np\n",
    "from matplotlib import pyplot as plt\n",
    "from pyomo.environ import *"
   ]
  },
  {
   "cell_type": "code",
   "execution_count": 2,
   "metadata": {},
   "outputs": [
    {
     "data": {
      "text/plain": [
       "(array([  3.,   3.,  33., 107., 197., 259., 231., 109.,  42.,  16.]),\n",
       " array([-6.41446352, -4.35551921, -2.2965749 , -0.23763059,  1.82131372,\n",
       "         3.88025803,  5.93920233,  7.99814664, 10.05709095, 12.11603526,\n",
       "        14.17497957]),\n",
       " <BarContainer object of 10 artists>)"
      ]
     },
     "execution_count": 2,
     "metadata": {},
     "output_type": "execute_result"
    },
    {
     "data": {
      "image/png": "[encoded data removed]",
      "text/plain": [
       "<Figure size 432x288 with 1 Axes>"
      ]
     },
     "metadata": {
      "needs_background": "light"
     },
     "output_type": "display_data"
    }
   ],
   "source": [
    "random_normal = st.norm.rvs(size=1000, loc = 5, scale = 3)\n",
    "plt.hist(random_normal)"
   ]
  },
  {
   "cell_type": "code",
   "execution_count": 3,
   "metadata": {},
   "outputs": [
    {
     "name": "stdout",
     "output_type": "stream",
     "text": [
      "\n",
      "*** Solution *** :\n",
      "mu: 5.108302835651586\n",
      "sigma: 3.0947198855464597\n",
      "*** Raw ***:\n",
      "mean: 5.108302835651586\n",
      "sd: 3.0947198854527938\n"
     ]
    }
   ],
   "source": [
    "model = ConcreteModel()\n",
    "model.mu = Var()\n",
    "model.sigma = Var(domain=PositiveReals)\n",
    "model.data_for_fitting = random_normal.tolist()\n",
    "model.N = len(random_normal)\n",
    "def normal_neg_ll(m):\n",
    "    neg_ll = 0\n",
    "    for i in range(m.N):\n",
    "        this_ll = -(log(m.sigma) + 0.5 * log(2*np.pi) + 0.5 * ((m.data_for_fitting[i] - m.mu)/m.sigma)**2)\n",
    "        neg_ll = neg_ll + this_ll\n",
    "    return(-neg_ll)\n",
    "model.obj= Objective(rule=normal_neg_ll, sense=minimize)\n",
    "solver = SolverFactory('ipopt')\n",
    "solver.solve(model)\n",
    "print()\n",
    "print('*** Solution *** :')\n",
    "print('mu:', value(model.mu))\n",
    "print('sigma:', value(model.sigma))\n",
    "print('*** Raw ***:')\n",
    "print('mean:', random_normal.mean())\n",
    "print('sd:', random_normal.std())"
   ]
  }
 ],
 "metadata": {
  "kernelspec": {
   "display_name": "Python 3",
   "language": "python",
   "name": "python3"
  },
  "language_info": {
   "codemirror_mode": {
    "name": "ipython",
    "version": 3
   },
   "file_extension": ".py",
   "mimetype": "text/x-python",
   "name": "python",
   "nbconvert_exporter": "python",
   "pygments_lexer": "ipython3",
   "version": "3.8.5"
  }
 },
 "nbformat": 4,
 "nbformat_minor": 4
}
